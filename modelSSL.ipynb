{
  "nbformat": 4,
  "nbformat_minor": 0,
  "metadata": {
    "colab": {
      "name": "modelSSL.ipynb",
      "provenance": [],
      "collapsed_sections": []
    },
    "kernelspec": {
      "name": "python3",
      "display_name": "Python 3"
    },
    "language_info": {
      "name": "python"
    },
    "widgets": {
      "application/vnd.jupyter.widget-state+json": {
        "448c9ad166a94659bef248a181367bec": {
          "model_module": "@jupyter-widgets/controls",
          "model_name": "HBoxModel",
          "model_module_version": "1.5.0",
          "state": {
            "_dom_classes": [],
            "_model_module": "@jupyter-widgets/controls",
            "_model_module_version": "1.5.0",
            "_model_name": "HBoxModel",
            "_view_count": null,
            "_view_module": "@jupyter-widgets/controls",
            "_view_module_version": "1.5.0",
            "_view_name": "HBoxView",
            "box_style": "",
            "children": [
              "IPY_MODEL_fbb14f19c2dd463f90b0d7f16d6a4bb7",
              "IPY_MODEL_09aaf591e95c4a558b185cf2468041c4",
              "IPY_MODEL_9ea3882135164fb3aed342b074a76387"
            ],
            "layout": "IPY_MODEL_a8f166a69b5a437a82188796df1482b5"
          }
        },
        "fbb14f19c2dd463f90b0d7f16d6a4bb7": {
          "model_module": "@jupyter-widgets/controls",
          "model_name": "HTMLModel",
          "model_module_version": "1.5.0",
          "state": {
            "_dom_classes": [],
            "_model_module": "@jupyter-widgets/controls",
            "_model_module_version": "1.5.0",
            "_model_name": "HTMLModel",
            "_view_count": null,
            "_view_module": "@jupyter-widgets/controls",
            "_view_module_version": "1.5.0",
            "_view_name": "HTMLView",
            "description": "",
            "description_tooltip": null,
            "layout": "IPY_MODEL_5439284c0d48418b9eac72132db867ea",
            "placeholder": "​",
            "style": "IPY_MODEL_fb3383121f6a4d9a8a87142354caf876",
            "value": "100%"
          }
        },
        "09aaf591e95c4a558b185cf2468041c4": {
          "model_module": "@jupyter-widgets/controls",
          "model_name": "FloatProgressModel",
          "model_module_version": "1.5.0",
          "state": {
            "_dom_classes": [],
            "_model_module": "@jupyter-widgets/controls",
            "_model_module_version": "1.5.0",
            "_model_name": "FloatProgressModel",
            "_view_count": null,
            "_view_module": "@jupyter-widgets/controls",
            "_view_module_version": "1.5.0",
            "_view_name": "ProgressView",
            "bar_style": "success",
            "description": "",
            "description_tooltip": null,
            "layout": "IPY_MODEL_bd3b78074cfd4ec4992f2dbee25cea33",
            "max": 108949747,
            "min": 0,
            "orientation": "horizontal",
            "style": "IPY_MODEL_85ebe40349e1403191646c634cac0a3f",
            "value": 108949747
          }
        },
        "9ea3882135164fb3aed342b074a76387": {
          "model_module": "@jupyter-widgets/controls",
          "model_name": "HTMLModel",
          "model_module_version": "1.5.0",
          "state": {
            "_dom_classes": [],
            "_model_module": "@jupyter-widgets/controls",
            "_model_module_version": "1.5.0",
            "_model_name": "HTMLModel",
            "_view_count": null,
            "_view_module": "@jupyter-widgets/controls",
            "_view_module_version": "1.5.0",
            "_view_name": "HTMLView",
            "description": "",
            "description_tooltip": null,
            "layout": "IPY_MODEL_0e46b8daf7fe4273b71e594b756629b7",
            "placeholder": "​",
            "style": "IPY_MODEL_2aa0e82058ec45bba4a7ca818d1e7fdb",
            "value": " 104M/104M [00:01&lt;00:00, 77.3MB/s]"
          }
        },
        "a8f166a69b5a437a82188796df1482b5": {
          "model_module": "@jupyter-widgets/base",
          "model_name": "LayoutModel",
          "model_module_version": "1.2.0",
          "state": {
            "_model_module": "@jupyter-widgets/base",
            "_model_module_version": "1.2.0",
            "_model_name": "LayoutModel",
            "_view_count": null,
            "_view_module": "@jupyter-widgets/base",
            "_view_module_version": "1.2.0",
            "_view_name": "LayoutView",
            "align_content": null,
            "align_items": null,
            "align_self": null,
            "border": null,
            "bottom": null,
            "display": null,
            "flex": null,
            "flex_flow": null,
            "grid_area": null,
            "grid_auto_columns": null,
            "grid_auto_flow": null,
            "grid_auto_rows": null,
            "grid_column": null,
            "grid_gap": null,
            "grid_row": null,
            "grid_template_areas": null,
            "grid_template_columns": null,
            "grid_template_rows": null,
            "height": null,
            "justify_content": null,
            "justify_items": null,
            "left": null,
            "margin": null,
            "max_height": null,
            "max_width": null,
            "min_height": null,
            "min_width": null,
            "object_fit": null,
            "object_position": null,
            "order": null,
            "overflow": null,
            "overflow_x": null,
            "overflow_y": null,
            "padding": null,
            "right": null,
            "top": null,
            "visibility": null,
            "width": null
          }
        },
        "5439284c0d48418b9eac72132db867ea": {
          "model_module": "@jupyter-widgets/base",
          "model_name": "LayoutModel",
          "model_module_version": "1.2.0",
          "state": {
            "_model_module": "@jupyter-widgets/base",
            "_model_module_version": "1.2.0",
            "_model_name": "LayoutModel",
            "_view_count": null,
            "_view_module": "@jupyter-widgets/base",
            "_view_module_version": "1.2.0",
            "_view_name": "LayoutView",
            "align_content": null,
            "align_items": null,
            "align_self": null,
            "border": null,
            "bottom": null,
            "display": null,
            "flex": null,
            "flex_flow": null,
            "grid_area": null,
            "grid_auto_columns": null,
            "grid_auto_flow": null,
            "grid_auto_rows": null,
            "grid_column": null,
            "grid_gap": null,
            "grid_row": null,
            "grid_template_areas": null,
            "grid_template_columns": null,
            "grid_template_rows": null,
            "height": null,
            "justify_content": null,
            "justify_items": null,
            "left": null,
            "margin": null,
            "max_height": null,
            "max_width": null,
            "min_height": null,
            "min_width": null,
            "object_fit": null,
            "object_position": null,
            "order": null,
            "overflow": null,
            "overflow_x": null,
            "overflow_y": null,
            "padding": null,
            "right": null,
            "top": null,
            "visibility": null,
            "width": null
          }
        },
        "fb3383121f6a4d9a8a87142354caf876": {
          "model_module": "@jupyter-widgets/controls",
          "model_name": "DescriptionStyleModel",
          "model_module_version": "1.5.0",
          "state": {
            "_model_module": "@jupyter-widgets/controls",
            "_model_module_version": "1.5.0",
            "_model_name": "DescriptionStyleModel",
            "_view_count": null,
            "_view_module": "@jupyter-widgets/base",
            "_view_module_version": "1.2.0",
            "_view_name": "StyleView",
            "description_width": ""
          }
        },
        "bd3b78074cfd4ec4992f2dbee25cea33": {
          "model_module": "@jupyter-widgets/base",
          "model_name": "LayoutModel",
          "model_module_version": "1.2.0",
          "state": {
            "_model_module": "@jupyter-widgets/base",
            "_model_module_version": "1.2.0",
            "_model_name": "LayoutModel",
            "_view_count": null,
            "_view_module": "@jupyter-widgets/base",
            "_view_module_version": "1.2.0",
            "_view_name": "LayoutView",
            "align_content": null,
            "align_items": null,
            "align_self": null,
            "border": null,
            "bottom": null,
            "display": null,
            "flex": null,
            "flex_flow": null,
            "grid_area": null,
            "grid_auto_columns": null,
            "grid_auto_flow": null,
            "grid_auto_rows": null,
            "grid_column": null,
            "grid_gap": null,
            "grid_row": null,
            "grid_template_areas": null,
            "grid_template_columns": null,
            "grid_template_rows": null,
            "height": null,
            "justify_content": null,
            "justify_items": null,
            "left": null,
            "margin": null,
            "max_height": null,
            "max_width": null,
            "min_height": null,
            "min_width": null,
            "object_fit": null,
            "object_position": null,
            "order": null,
            "overflow": null,
            "overflow_x": null,
            "overflow_y": null,
            "padding": null,
            "right": null,
            "top": null,
            "visibility": null,
            "width": null
          }
        },
        "85ebe40349e1403191646c634cac0a3f": {
          "model_module": "@jupyter-widgets/controls",
          "model_name": "ProgressStyleModel",
          "model_module_version": "1.5.0",
          "state": {
            "_model_module": "@jupyter-widgets/controls",
            "_model_module_version": "1.5.0",
            "_model_name": "ProgressStyleModel",
            "_view_count": null,
            "_view_module": "@jupyter-widgets/base",
            "_view_module_version": "1.2.0",
            "_view_name": "StyleView",
            "bar_color": null,
            "description_width": ""
          }
        },
        "0e46b8daf7fe4273b71e594b756629b7": {
          "model_module": "@jupyter-widgets/base",
          "model_name": "LayoutModel",
          "model_module_version": "1.2.0",
          "state": {
            "_model_module": "@jupyter-widgets/base",
            "_model_module_version": "1.2.0",
            "_model_name": "LayoutModel",
            "_view_count": null,
            "_view_module": "@jupyter-widgets/base",
            "_view_module_version": "1.2.0",
            "_view_name": "LayoutView",
            "align_content": null,
            "align_items": null,
            "align_self": null,
            "border": null,
            "bottom": null,
            "display": null,
            "flex": null,
            "flex_flow": null,
            "grid_area": null,
            "grid_auto_columns": null,
            "grid_auto_flow": null,
            "grid_auto_rows": null,
            "grid_column": null,
            "grid_gap": null,
            "grid_row": null,
            "grid_template_areas": null,
            "grid_template_columns": null,
            "grid_template_rows": null,
            "height": null,
            "justify_content": null,
            "justify_items": null,
            "left": null,
            "margin": null,
            "max_height": null,
            "max_width": null,
            "min_height": null,
            "min_width": null,
            "object_fit": null,
            "object_position": null,
            "order": null,
            "overflow": null,
            "overflow_x": null,
            "overflow_y": null,
            "padding": null,
            "right": null,
            "top": null,
            "visibility": null,
            "width": null
          }
        },
        "2aa0e82058ec45bba4a7ca818d1e7fdb": {
          "model_module": "@jupyter-widgets/controls",
          "model_name": "DescriptionStyleModel",
          "model_module_version": "1.5.0",
          "state": {
            "_model_module": "@jupyter-widgets/controls",
            "_model_module_version": "1.5.0",
            "_model_name": "DescriptionStyleModel",
            "_view_count": null,
            "_view_module": "@jupyter-widgets/base",
            "_view_module_version": "1.2.0",
            "_view_name": "StyleView",
            "description_width": ""
          }
        }
      }
    }
  },
  "cells": [
    {
      "cell_type": "code",
      "execution_count": 1,
      "metadata": {
        "colab": {
          "base_uri": "https://localhost:8080/",
          "height": 84,
          "referenced_widgets": [
            "448c9ad166a94659bef248a181367bec",
            "fbb14f19c2dd463f90b0d7f16d6a4bb7",
            "09aaf591e95c4a558b185cf2468041c4",
            "9ea3882135164fb3aed342b074a76387",
            "a8f166a69b5a437a82188796df1482b5",
            "5439284c0d48418b9eac72132db867ea",
            "fb3383121f6a4d9a8a87142354caf876",
            "bd3b78074cfd4ec4992f2dbee25cea33",
            "85ebe40349e1403191646c634cac0a3f",
            "0e46b8daf7fe4273b71e594b756629b7",
            "2aa0e82058ec45bba4a7ca818d1e7fdb"
          ]
        },
        "id": "8I-Xvd-3-n9b",
        "outputId": "59e56037-e755-4fac-a41e-68d32ae36697"
      },
      "outputs": [
        {
          "output_type": "stream",
          "name": "stderr",
          "text": [
            "Downloading: \"https://github.com/pytorch/vision/archive/v0.10.0.zip\" to /root/.cache/torch/hub/v0.10.0.zip\n",
            "Downloading: \"https://download.pytorch.org/models/inception_v3_google-0cc3c7bd.pth\" to /root/.cache/torch/hub/checkpoints/inception_v3_google-0cc3c7bd.pth\n"
          ]
        },
        {
          "output_type": "display_data",
          "data": {
            "text/plain": [
              "  0%|          | 0.00/104M [00:00<?, ?B/s]"
            ],
            "application/vnd.jupyter.widget-view+json": {
              "version_major": 2,
              "version_minor": 0,
              "model_id": "448c9ad166a94659bef248a181367bec"
            }
          },
          "metadata": {}
        }
      ],
      "source": [
        "import torch\n",
        "from torch import nn\n",
        "model = torch.hub.load('pytorch/vision:v0.10.0', 'inception_v3', pretrained=True)\n",
        "#model.eval()"
      ]
    },
    {
      "cell_type": "code",
      "source": [
        "# define an identity layer to replace layers after mixed_5d\n",
        "class Identity(nn.Module): \n",
        "    def __init__(self):\n",
        "        super(Identity, self).__init__()\n",
        "        \n",
        "    def forward(self, x):\n",
        "        return x\n",
        "\n",
        "# replace aboundent layers to identity layers\n",
        "model.fc=Identity()\n",
        "model.dropout=Identity()\n",
        "model.avgpool=Identity()\n",
        "model.Mixed_7c=Identity()\n",
        "model.Mixed_7b=Identity()\n",
        "model.Mixed_7a=Identity()\n",
        "model.AuxLogits=Identity()\n",
        "model.Mixed_6e=Identity()\n",
        "model.Mixed_6d=Identity()\n",
        "model.Mixed_6c=Identity()\n",
        "model.Mixed_6b=Identity()\n",
        "model.Mixed_6a=Identity()\n",
        "#model.eval()"
      ],
      "metadata": {
        "id": "c3vyOn65_Mge"
      },
      "execution_count": 4,
      "outputs": []
    },
    {
      "cell_type": "code",
      "source": [
        "# check dimensions \n",
        "# Download an example image from the pytorch website\n",
        "import urllib\n",
        "url, filename = (\"https://github.com/pytorch/hub/raw/master/images/dog.jpg\", \"dog.jpg\")\n",
        "try: urllib.URLopener().retrieve(url, filename)\n",
        "except: urllib.request.urlretrieve(url, filename)\n",
        "\n",
        "# sample execution (requires torchvision)\n",
        "from PIL import Image\n",
        "from torchvision import transforms\n",
        "input_image = Image.open(filename)\n",
        "preprocess = transforms.Compose([\n",
        "    transforms.Resize(299),\n",
        "    transforms.CenterCrop(299),\n",
        "    transforms.ToTensor(),\n",
        "    transforms.Normalize(mean=[0.485, 0.456, 0.406], std=[0.229, 0.224, 0.225]),\n",
        "])\n",
        "input_tensor = preprocess(input_image)\n",
        "input_batch = input_tensor.unsqueeze(0) # create a mini-batch as expected by the model\n",
        "\n",
        "# move the input and model to GPU for speed if available\n",
        "if torch.cuda.is_available():\n",
        "    input_batch = input_batch.to('cuda')\n",
        "    model.to('cuda')\n",
        "\n",
        "with torch.no_grad():\n",
        "  output = model(input_batch)\n"
      ],
      "metadata": {
        "id": "JoSnWMMKNyem"
      },
      "execution_count": 5,
      "outputs": []
    },
    {
      "cell_type": "code",
      "source": [
        "# Tensor of shape 1000, with confidence scores over Imagenet's 1000 classes\n",
        "print(output.view(-1,288,35,35).shape)"
      ],
      "metadata": {
        "colab": {
          "base_uri": "https://localhost:8080/",
          "height": 0
        },
        "id": "t9xOagg3Oa8W",
        "outputId": "e1356454-4557-497e-830a-e7a474689aae"
      },
      "execution_count": 6,
      "outputs": [
        {
          "output_type": "stream",
          "name": "stdout",
          "text": [
            "torch.Size([1, 288, 35, 35])\n"
          ]
        }
      ]
    },
    {
      "cell_type": "code",
      "source": [
        "# need conv2d conv2d and spatial softmax\n",
        "class Last_two_conv(nn.Module):\n",
        "    def __init__(self, in_channels,hidden_channels,out_channels):\n",
        "        super(Last_two_conv, self).__init__()\n",
        "        self.conv1 = nn.Conv2d(in_channels, hidden_channels,\n",
        "                               kernel_size=5)\n",
        "        self.relu1 = nn.ReLU()\n",
        "        self.conv2 = nn.Conv2d(hidden_channels, out_channels,\n",
        "                               kernel_size=5)\n",
        "        self.relu2 = nn.ReLU()\n",
        "\n",
        "    def forward(self, x):\n",
        "        # reshape\n",
        "        x = x.view(-1,288,35,35)\n",
        "        x = self.conv1(x)\n",
        "        # Activation function\n",
        "        x = self.relu1(x)\n",
        "        # Second convolutional layer\n",
        "        x = self.conv2(x)\n",
        "        # Activation function\n",
        "        x = self.relu2(x)\n",
        "        return x\n",
        "\n",
        "# replace the layer with last_two_conv\n",
        "\n",
        "model.dropout=Last_two_conv(288,32,16)\n",
        "with torch.no_grad():\n",
        "  output = model(input_batch)\n",
        "print(output.view(-1,16,27,27).shape)"
      ],
      "metadata": {
        "colab": {
          "base_uri": "https://localhost:8080/",
          "height": 0
        },
        "id": "AACIh-9oPNWF",
        "outputId": "49a355a5-182d-4047-ca83-14f3e16b896a"
      },
      "execution_count": 7,
      "outputs": [
        {
          "output_type": "stream",
          "name": "stdout",
          "text": [
            "torch.Size([1, 16, 27, 27])\n"
          ]
        }
      ]
    },
    {
      "cell_type": "code",
      "source": [
        "# define spatialsofrmax\n",
        "import numpy as np\n",
        "class SpatialSoftmax(torch.nn.Module):\n",
        "    def __init__(self, height, width, channel, temperature=None):\n",
        "        super(SpatialSoftmax, self).__init__()\n",
        "        self.height = height\n",
        "        self.width = width\n",
        "        self.channel = channel\n",
        "\n",
        "        if temperature:  \n",
        "          self.temperature = torch.ones(1)*temperature   \n",
        "        else:   \n",
        "          self.temperature = nn.Parameter(torch.ones(1))  \n",
        "\n",
        "        pos_x, pos_y = np.meshgrid(\n",
        "                np.linspace(-1., 1., self.height),\n",
        "                np.linspace(-1., 1., self.width)\n",
        "                )\n",
        "        pos_x = torch.from_numpy(pos_x.reshape(self.height*self.width)).float()\n",
        "        pos_y = torch.from_numpy(pos_y.reshape(self.height*self.width)).float()\n",
        "        self.register_buffer('pos_x', pos_x)\n",
        "        self.register_buffer('pos_y', pos_y)\n",
        "        self.linear =nn.Linear(32, 32)\n",
        "\n",
        "    def forward(self, feature):\n",
        "\n",
        "        #feature = feature.view(-1,16,self.height*self.width)\n",
        "        feature = feature.view(-1,self.height*self.width)\n",
        "\n",
        "        softmax_attention = nn.functional.softmax(feature/self.temperature, dim=-1)\n",
        "        expected_x = torch.sum(self.pos_x*softmax_attention, dim=1, keepdim=True)\n",
        "        expected_y = torch.sum(self.pos_y*softmax_attention, dim=1, keepdim=True)\n",
        "        expected_xy = torch.cat([expected_x, expected_y], 1)\n",
        "        feature_keypoints = expected_xy.view(-1, self.channel*2)\n",
        "        feature_keypoints = self.linear(feature_keypoints)\n",
        "\n",
        "        return feature_keypoints\n",
        "\n",
        "# replace fc layer with spatial softmax\n",
        "model.fc=SpatialSoftmax(27,27,16,temperature=None)\n",
        "with torch.no_grad():\n",
        "  output = model(input_batch)\n",
        "print(output.shape)\n",
        "print(input_batch.shape)"
      ],
      "metadata": {
        "colab": {
          "base_uri": "https://localhost:8080/",
          "height": 0
        },
        "id": "0PDMLO5jUjFh",
        "outputId": "0e3a3491-52d4-4ff6-d95e-ccd7ab48a452"
      },
      "execution_count": 12,
      "outputs": [
        {
          "output_type": "stream",
          "name": "stdout",
          "text": [
            "torch.Size([1, 32])\n",
            "torch.Size([1, 3, 299, 299])\n"
          ]
        }
      ]
    },
    {
      "cell_type": "markdown",
      "source": [
        "triplelet loss test"
      ],
      "metadata": {
        "id": "QLZrJtSHgL6B"
      }
    },
    {
      "cell_type": "code",
      "source": [
        "torch.manual_seed(0)\n",
        "triplet_loss = nn.TripletMarginLoss(margin=1.0, p=2,reduction='sum')\n",
        "anchor = torch.randn(1, 1, requires_grad=True)\n",
        "positive = torch.randn(1, 1, requires_grad=True)\n",
        "negative = torch.randn(1, 1, requires_grad=True)\n",
        "print(anchor)\n",
        "print(positive)\n",
        "print(negative)\n"
      ],
      "metadata": {
        "colab": {
          "base_uri": "https://localhost:8080/",
          "height": 0
        },
        "id": "cJtureN6gOXS",
        "outputId": "3e80aae2-af56-4475-c95f-040a65bd8e8b"
      },
      "execution_count": 11,
      "outputs": [
        {
          "output_type": "stream",
          "name": "stdout",
          "text": [
            "tensor([[1.5410]], requires_grad=True)\n",
            "tensor([[-0.2934]], requires_grad=True)\n",
            "tensor([[-2.1788]], requires_grad=True)\n"
          ]
        }
      ]
    },
    {
      "cell_type": "code",
      "source": [
        "output = triplet_loss(anchor, positive, negative)\n",
        "print(output)\n",
        "nn.functional.relu((anchor-positive).norm(dim=0,p=2)-(anchor-negative).norm(dim=0,p=2)+1)"
      ],
      "metadata": {
        "colab": {
          "base_uri": "https://localhost:8080/"
        },
        "id": "NuDtfjJ-hhGr",
        "outputId": "f34f134e-7403-44bd-abfb-26daca779230"
      },
      "execution_count": null,
      "outputs": [
        {
          "output_type": "stream",
          "name": "stdout",
          "text": [
            "tensor(0., grad_fn=<SumBackward0>)\n"
          ]
        },
        {
          "output_type": "execute_result",
          "data": {
            "text/plain": [
              "tensor([0.], grad_fn=<ReluBackward0>)"
            ]
          },
          "metadata": {},
          "execution_count": 68
        }
      ]
    },
    {
      "cell_type": "code",
      "source": [
        "torch.manual_seed(0)\n",
        "triplet_loss = nn.TripletMarginLoss(margin=1.0, p=2,reduction='sum') # input data\n",
        "anchor = torch.randn(1,32, 1, requires_grad=True) # 1 X 32 x 1\n",
        "positive = torch.randn(4,32, 1, requires_grad=True) # 4 X 32 X 1\n",
        "negative = torch.randn(10,32, 1, requires_grad=True) # N-4 X 32 X 1\n",
        "print(anchor)\n",
        "print(positive)\n",
        "print(negative)"
      ],
      "metadata": {
        "colab": {
          "base_uri": "https://localhost:8080/",
          "height": 0
        },
        "id": "DxZFuD-ZhplM",
        "outputId": "8dfe5de3-9066-459a-d006-fd226ec799da"
      },
      "execution_count": 27,
      "outputs": [
        {
          "output_type": "stream",
          "name": "stdout",
          "text": [
            "tensor([[1.5410]], requires_grad=True)\n",
            "tensor([[-0.2934],\n",
            "        [-2.1788],\n",
            "        [ 0.5684],\n",
            "        [-1.0845],\n",
            "        [-1.3986]], requires_grad=True)\n",
            "tensor([[ 0.4033],\n",
            "        [ 0.8380],\n",
            "        [-0.7193]], requires_grad=True)\n"
          ]
        }
      ]
    },
    {
      "cell_type": "code",
      "source": [
        "output = triplet_loss(anchor, positive, negative)\n",
        "print(output)\n",
        "nn.functional.relu((anchor-positive).norm(dim=1,p=2)-(anchor-negative).norm(dim=1,p=2)+1).sum(dim=0)"
      ],
      "metadata": {
        "colab": {
          "base_uri": "https://localhost:8080/"
        },
        "id": "f8ypiKIAnXNr",
        "outputId": "95a6b657-8bf5-4158-9948-c3163440a2f6"
      },
      "execution_count": null,
      "outputs": [
        {
          "output_type": "stream",
          "name": "stdout",
          "text": [
            "tensor(5.7707, grad_fn=<SumBackward0>)\n"
          ]
        },
        {
          "output_type": "execute_result",
          "data": {
            "text/plain": [
              "tensor(5.7707, grad_fn=<SumBackward1>)"
            ]
          },
          "metadata": {},
          "execution_count": 72
        }
      ]
    },
    {
      "cell_type": "code",
      "source": [
        "torch.manual_seed(0)\n",
        "triplet_loss = nn.TripletMarginLoss(margin=1.0, p=2,reduction='sum')\n",
        "anchor = torch.randn(3,3, 1, requires_grad=True)\n",
        "positive = torch.randn(3,3, 5, requires_grad=True)\n",
        "negative = torch.randn(3,3, 10, requires_grad=True)\n",
        "print(anchor)\n",
        "print(positive)\n",
        "print(negative)"
      ],
      "metadata": {
        "colab": {
          "base_uri": "https://localhost:8080/",
          "height": 0
        },
        "id": "E-DZuyueIg6t",
        "outputId": "58b91170-8824-4d4f-eb3a-b01063cffaa8"
      },
      "execution_count": 22,
      "outputs": [
        {
          "output_type": "stream",
          "name": "stdout",
          "text": [
            "tensor([[[ 1.5410],\n",
            "         [-0.2934],\n",
            "         [-2.1788]],\n",
            "\n",
            "        [[ 0.5684],\n",
            "         [-1.0845],\n",
            "         [-1.3986]],\n",
            "\n",
            "        [[ 0.4033],\n",
            "         [ 0.8380],\n",
            "         [-0.7193]]], requires_grad=True)\n",
            "tensor([[[ 0.5988, -1.5551, -0.3414,  1.8530,  0.4681],\n",
            "         [-0.1577,  1.4437,  0.2660,  1.3894,  1.5863],\n",
            "         [ 0.9463, -0.8437,  0.9318,  1.2590,  2.0050]],\n",
            "\n",
            "        [[ 0.0537,  0.4397,  0.1124,  0.6408,  0.4412],\n",
            "         [-0.2159, -0.7425,  0.5627,  0.2596,  0.5229],\n",
            "         [ 2.3022, -1.4689, -1.5867,  1.2032,  0.9200]],\n",
            "\n",
            "        [[ 1.1108,  1.2899, -1.4782,  2.5672, -0.4731],\n",
            "         [ 0.3356,  1.5091, -0.5497, -0.4798, -0.4997],\n",
            "         [-1.0670,  1.1149, -0.1407,  0.8058,  0.3276]]], requires_grad=True)\n",
            "tensor([[[ 6.8705e-01, -8.3832e-01,  8.9182e-04,  8.4189e-01, -4.0003e-01,\n",
            "           1.0395e+00,  3.5815e-01, -3.3039e-03,  2.3025e+00, -1.8817e+00],\n",
            "         [-4.9727e-02, -1.0450e+00, -9.5650e-01,  3.3532e-02,  7.1009e-01,\n",
            "          -1.5353e+00, -1.3602e+00,  3.4457e-01,  5.1987e-01, -2.6133e+00],\n",
            "         [-1.6965e+00, -2.2824e-01,  2.7995e-01,  7.3246e-02,  7.6887e-02,\n",
            "           3.3801e-01,  4.5440e-01,  4.5694e-01, -8.6537e-01,  7.8131e-01]],\n",
            "\n",
            "        [[-9.2679e-01,  2.0642e-01, -2.4351e+00, -7.2915e-02, -3.3986e-02,\n",
            "           9.6252e-01,  3.4917e-01, -9.2146e-01, -5.6195e-02, -7.0152e-01],\n",
            "         [-4.6372e-01,  1.9218e+00, -4.0255e-01,  1.2390e-01,  1.1648e+00,\n",
            "           9.2337e-01,  1.3873e+00,  1.3750e+00, -4.1891e-01, -8.0483e-01],\n",
            "         [ 5.6561e-01,  6.1036e-01,  4.6688e-01,  1.9507e+00, -1.0631e+00,\n",
            "           1.1404e+00,  1.1640e-01, -5.9399e-01, -1.2439e+00, -1.0209e-01]],\n",
            "\n",
            "        [[-1.0335e+00, -3.1264e-01,  2.4579e-01,  3.7718e-01,  1.1834e-01,\n",
            "           2.4396e-01,  1.1646e+00,  2.8858e-01,  3.8660e-01, -2.0106e-01],\n",
            "         [-1.1793e-01, -8.2937e-01, -7.7216e-01, -1.9003e+00,  6.9020e-01,\n",
            "          -2.3217e+00, -1.1964e+00,  1.9703e-01, -1.1773e+00, -6.6144e-02],\n",
            "         [-3.5836e-01, -1.5616e+00,  4.7512e-01, -8.1373e-01,  9.2424e-01,\n",
            "          -2.4734e-01, -1.4154e+00, -1.0787e+00, -7.2091e-01,  1.4708e+00]]],\n",
            "       requires_grad=True)\n"
          ]
        }
      ]
    },
    {
      "cell_type": "code",
      "source": [
        "output = triplet_loss(anchor, positive, negative) # anchor size Nsample x d x 1, positive size Nsample x d x window, negative size Nsample x d x (Nsample-window)\n",
        "print(output)\n",
        "print(anchor-positive)\n",
        "print((anchor-positive).norm(dim=1,p=2))\n",
        "#(anchor-positive).norm(dim=2,p=2)-(anchor-negative).norm(dim=2,p=2)+1\n",
        "nn.functional.relu((anchor-positive).norm(dim=1,p=2)-(anchor-negative).norm(dim=1,p=2)+1)"
      ],
      "metadata": {
        "colab": {
          "base_uri": "https://localhost:8080/",
          "height": 482
        },
        "id": "mbq9WKeNIueH",
        "outputId": "58a36425-830e-47d1-f913-e17c206824c3"
      },
      "execution_count": 25,
      "outputs": [
        {
          "output_type": "stream",
          "name": "stdout",
          "text": [
            "tensor(4.7244, grad_fn=<SumBackward0>)\n",
            "tensor([[[ 0.9422,  3.0961,  1.8824, -0.3120,  1.0729],\n",
            "         [-0.1357, -1.7371, -0.5595, -1.6828, -1.8798],\n",
            "         [-3.1251, -1.3351, -3.1106, -3.4378, -4.1838]],\n",
            "\n",
            "        [[ 0.5147,  0.1287,  0.4560, -0.0724,  0.1273],\n",
            "         [-0.8687, -0.3420, -1.6472, -1.3441, -1.6074],\n",
            "         [-3.7008,  0.0703,  0.1881, -2.6018, -2.3186]],\n",
            "\n",
            "        [[-0.7075, -0.8865,  1.8815, -2.1639,  0.8765],\n",
            "         [ 0.5025, -0.6711,  1.3878,  1.3179,  1.3377],\n",
            "         [ 0.3477, -1.8342, -0.5786, -1.5250, -1.0469]]],\n",
            "       grad_fn=<SubBackward0>)\n",
            "tensor([[3.2668, 3.7929, 3.6786, 3.8403, 4.7105],\n",
            "        [3.8361, 0.3721, 1.7195, 2.9294, 2.8241],\n",
            "        [0.9348, 2.1449, 2.4085, 2.9572, 1.9114]], grad_fn=<NormBackward1>)\n"
          ]
        },
        {
          "output_type": "error",
          "ename": "RuntimeError",
          "evalue": "ignored",
          "traceback": [
            "\u001b[0;31m---------------------------------------------------------------------------\u001b[0m",
            "\u001b[0;31mRuntimeError\u001b[0m                              Traceback (most recent call last)",
            "\u001b[0;32m<ipython-input-25-c865567d4f51>\u001b[0m in \u001b[0;36m<module>\u001b[0;34m()\u001b[0m\n\u001b[1;32m      4\u001b[0m \u001b[0mprint\u001b[0m\u001b[0;34m(\u001b[0m\u001b[0;34m(\u001b[0m\u001b[0manchor\u001b[0m\u001b[0;34m-\u001b[0m\u001b[0mpositive\u001b[0m\u001b[0;34m)\u001b[0m\u001b[0;34m.\u001b[0m\u001b[0mnorm\u001b[0m\u001b[0;34m(\u001b[0m\u001b[0mdim\u001b[0m\u001b[0;34m=\u001b[0m\u001b[0;36m1\u001b[0m\u001b[0;34m,\u001b[0m\u001b[0mp\u001b[0m\u001b[0;34m=\u001b[0m\u001b[0;36m2\u001b[0m\u001b[0;34m)\u001b[0m\u001b[0;34m)\u001b[0m\u001b[0;34m\u001b[0m\u001b[0;34m\u001b[0m\u001b[0m\n\u001b[1;32m      5\u001b[0m \u001b[0;31m#(anchor-positive).norm(dim=2,p=2)-(anchor-negative).norm(dim=2,p=2)+1\u001b[0m\u001b[0;34m\u001b[0m\u001b[0;34m\u001b[0m\u001b[0;34m\u001b[0m\u001b[0m\n\u001b[0;32m----> 6\u001b[0;31m \u001b[0mnn\u001b[0m\u001b[0;34m.\u001b[0m\u001b[0mfunctional\u001b[0m\u001b[0;34m.\u001b[0m\u001b[0mrelu\u001b[0m\u001b[0;34m(\u001b[0m\u001b[0;34m(\u001b[0m\u001b[0manchor\u001b[0m\u001b[0;34m-\u001b[0m\u001b[0mpositive\u001b[0m\u001b[0;34m)\u001b[0m\u001b[0;34m.\u001b[0m\u001b[0mnorm\u001b[0m\u001b[0;34m(\u001b[0m\u001b[0mdim\u001b[0m\u001b[0;34m=\u001b[0m\u001b[0;36m1\u001b[0m\u001b[0;34m,\u001b[0m\u001b[0mp\u001b[0m\u001b[0;34m=\u001b[0m\u001b[0;36m2\u001b[0m\u001b[0;34m)\u001b[0m\u001b[0;34m-\u001b[0m\u001b[0;34m(\u001b[0m\u001b[0manchor\u001b[0m\u001b[0;34m-\u001b[0m\u001b[0mnegative\u001b[0m\u001b[0;34m)\u001b[0m\u001b[0;34m.\u001b[0m\u001b[0mnorm\u001b[0m\u001b[0;34m(\u001b[0m\u001b[0mdim\u001b[0m\u001b[0;34m=\u001b[0m\u001b[0;36m1\u001b[0m\u001b[0;34m,\u001b[0m\u001b[0mp\u001b[0m\u001b[0;34m=\u001b[0m\u001b[0;36m2\u001b[0m\u001b[0;34m)\u001b[0m\u001b[0;34m+\u001b[0m\u001b[0;36m1\u001b[0m\u001b[0;34m)\u001b[0m\u001b[0;34m\u001b[0m\u001b[0;34m\u001b[0m\u001b[0m\n\u001b[0m",
            "\u001b[0;31mRuntimeError\u001b[0m: The size of tensor a (5) must match the size of tensor b (10) at non-singleton dimension 1"
          ]
        }
      ]
    },
    {
      "cell_type": "code",
      "source": [
        "# Initialize embeddings\n",
        "embedding = nn.Embedding(1000, 128)\n",
        "anchor_ids = torch.randint(0, 1000, (1,))\n",
        "positive_ids = torch.randint(0, 1000, (1,))\n",
        "negative_ids = torch.randint(0, 1000, (1,))\n",
        "anchor = embedding(anchor_ids)\n",
        "positive = embedding(positive_ids)\n",
        "negative = embedding(negative_ids)\n",
        "# Built-in Distance Function\n",
        "triplet_loss = \\\n",
        "    nn.TripletMarginWithDistanceLoss(distance_function=nn.PairwiseDistance())\n",
        "output = triplet_loss(anchor, positive, negative)\n",
        "print(anchor_ids)"
      ],
      "metadata": {
        "colab": {
          "base_uri": "https://localhost:8080/"
        },
        "id": "UYklGVgdKihQ",
        "outputId": "fcf75c5b-4fc7-4e80-b708-c4dc3830e30e"
      },
      "execution_count": null,
      "outputs": [
        {
          "output_type": "stream",
          "name": "stdout",
          "text": [
            "tensor([430])\n"
          ]
        }
      ]
    }
  ]
}