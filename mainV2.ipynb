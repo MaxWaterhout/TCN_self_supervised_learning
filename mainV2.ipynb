{
 "cells": [
  {
   "cell_type": "code",
   "execution_count": 1,
   "metadata": {},
   "outputs": [
    {
     "name": "stdout",
     "output_type": "stream",
     "text": [
      "tensor([41, 50, 42, 35, 31, 40, 37, 40, 33, 42, 30])\n",
      "torch.Size([1, 421, 3, 360, 640])\n"
     ]
    }
   ],
   "source": [
    "%reset -f\n",
    "import torch\n",
    "from torchvision import transforms\n",
    "from matplotlib import pyplot as plt\n",
    "from models import TCNmodel\n",
    "import numpy as np\n",
    "from random import randrange\n",
    "import os\n",
    "\n",
    "train_sample,frame = torch.load('dataset_train.pt')\n",
    "print(frame)\n",
    "\n",
    "print(train_sample.shape)\n",
    "\n",
    "#data_loader = torch.utils.data.DataLoader(train_sample, batch_size = 1, shuffle = True)\n",
    "# for videos in data_loader:\n",
    "#     print(videos.size())\n"
   ]
  },
  {
   "cell_type": "code",
   "execution_count": 2,
   "metadata": {},
   "outputs": [],
   "source": [
    "# print(posindex)\n",
    "# print(negindex)"
   ]
  },
  {
   "cell_type": "code",
   "execution_count": 3,
   "metadata": {},
   "outputs": [],
   "source": [
    "def DatasetCon(data,frame):\n",
    "    # construct a F x 3 x C x W x H tensoR\n",
    "    # 0: anchor, 1: positive, 2: negative\n",
    "    N,F,C,W,H = data.shape # F: frame\n",
    "    anchor = data\n",
    "    idx = np.arange(F)\n",
    "    count=0\n",
    "\n",
    "    # positve & negative\n",
    "    posindex = np.array([])\n",
    "    negindex = np.array([])\n",
    "    for j in range(len(frame)):\n",
    "        f = frame[j]\n",
    "        Posidx_j = np.zeros(f)\n",
    "        Negidx_j = np.zeros(f)\n",
    "        for i in range(f):\n",
    "        # pp positve\n",
    "            pp= randrange(-1,1)\n",
    "            if pp ==-1:\n",
    "                Posidx_j[i]=-1\n",
    "            else:\n",
    "                Posidx_j[i]=1\n",
    "        \n",
    "        # pn negative      \n",
    "            pn = randrange(0,f)\n",
    "            while pn<=i+2 & pn>=i-2:\n",
    "                pn=randrange(0,f)\n",
    "            Negidx_j[i]=pn+count\n",
    "        \n",
    "        count = count+f\n",
    "         \n",
    "        # fixed index value at 0 frame and the end frame\n",
    "        Posidx_j[0]=1\n",
    "        Posidx_j[-1]=-1\n",
    "        posindex=np.concatenate((posindex,Posidx_j))\n",
    "        negindex = np.concatenate((negindex,Negidx_j))\n",
    "    \n",
    "    posindex = idx+posindex\n",
    "    positive = data[:,posindex,:,:,:]\n",
    "\n",
    "    negative = data[:,negindex,:,:,:]\n",
    "    dataset = torch.cat([anchor,positive,negative])\n",
    "    dataset = dataset.transpose(0,1)\n",
    "    return dataset"
   ]
  },
  {
   "cell_type": "code",
   "execution_count": 4,
   "metadata": {},
   "outputs": [],
   "source": [
    "# dataset = DatasetCon(train_sample,frame)\n",
    "# print(dataset.shape)\n",
    "# # data_loader = torch.utils.data.DataLoader(dataset, batch_size = 4, shuffle = True)\n",
    "# # for videos in data_loader:\n",
    "# #     print(videos.size())\n",
    "# #     break\n"
   ]
  },
  {
   "cell_type": "code",
   "execution_count": 5,
   "metadata": {},
   "outputs": [],
   "source": [
    "# model=TCNmodel()"
   ]
  },
  {
   "cell_type": "code",
   "execution_count": 6,
   "metadata": {},
   "outputs": [],
   "source": [
    "# with torch.no_grad():\n",
    "#     output = model(torch.reshape(videos,[-1,3,360,640]))\n",
    "# # Tensor of shape 1000, with confidence scores over Imagenet's 1000 classes\n",
    "# print(output.shape)"
   ]
  },
  {
   "cell_type": "code",
   "execution_count": 7,
   "metadata": {},
   "outputs": [],
   "source": [
    "# output=output.reshape([4,3,-1])\n",
    "# print(output.shape)\n",
    "# anchor = output[:,0,:]\n",
    "# positive = output[:,1,:]\n",
    "# negative = output[:,2,:]\n",
    "# triplet_loss = torch.nn.TripletMarginLoss(margin=0.2, p=2)\n",
    "# # corr=torch.mm(output,output.transpose(0,1))\n",
    "# loss = triplet_loss(anchor, positive, negative)\n",
    "# print(loss)\n"
   ]
  },
  {
   "cell_type": "code",
   "execution_count": 8,
   "metadata": {},
   "outputs": [],
   "source": [
    "def train(train_loader, net, optimizer, criterion,device):\n",
    "    \"\"\"\n",
    "    Trains network for one epoch in batches.\n",
    "\n",
    "    Args:\n",
    "        train_loader: Data loader for training set.\n",
    "        net: Neural network model.\n",
    "        optimizer: Optimizer (e.g. SGD).\n",
    "        criterion: Loss function (e.g. cross-entropy loss).\n",
    "    \"\"\"\n",
    "  \n",
    "    avg_loss = 0\n",
    "    #correct = 0\n",
    "    total = 0\n",
    "\n",
    "    # iterate through batches\n",
    "    for i, data in enumerate(train_loader):\n",
    "        N,P,C,W,H = data.shape\n",
    "        # get the inputs; data is a list of [inputs, labels]\n",
    "        inputs = data.reshape([-1,C,W,H])\n",
    "        inputs= inputs.to(device)\n",
    "        # zero the parameter gradients\n",
    "        optimizer.zero_grad()\n",
    "\n",
    "        # forward + backward + optimize\n",
    "        outputs = net(inputs)\n",
    "        outputs = outputs.reshape([N,P,-1])\n",
    "        \n",
    "        anchor = outputs[:,0,:]\n",
    "        positive = outputs[:,1,:]\n",
    "        negative = outputs[:,2,:]\n",
    "        \n",
    "        loss = criterion(anchor,positive,negative)\n",
    "        loss.backward()\n",
    "        optimizer.step()\n",
    "\n",
    "        # keep track of loss and accuracy\n",
    "        avg_loss += loss\n",
    "        #print(avg_loss)\n",
    "    return avg_loss"
   ]
  },
  {
   "cell_type": "code",
   "execution_count": 9,
   "metadata": {},
   "outputs": [
    {
     "name": "stderr",
     "output_type": "stream",
     "text": [
      "Using cache found in C:\\Users\\Think/.cache\\torch\\hub\\pytorch_vision_v0.10.0\n",
      "  0%|                                                                                           | 0/20 [00:00<?, ?it/s]"
     ]
    },
    {
     "name": "stdout",
     "output_type": "stream",
     "text": [
      "tensor(1.2814, device='cuda:0', grad_fn=<DivBackward0>)\n"
     ]
    },
    {
     "name": "stderr",
     "output_type": "stream",
     "text": [
      " 10%|████████▎                                                                          | 2/20 [01:48<16:25, 54.75s/it]"
     ]
    },
    {
     "name": "stdout",
     "output_type": "stream",
     "text": [
      "tensor(1.5393, device='cuda:0', grad_fn=<DivBackward0>)\n"
     ]
    },
    {
     "name": "stderr",
     "output_type": "stream",
     "text": [
      "\r",
      " 15%|████████████▍                                                                      | 3/20 [02:40<15:18, 54.04s/it]"
     ]
    },
    {
     "name": "stdout",
     "output_type": "stream",
     "text": [
      "tensor(1.4186, device='cuda:0', grad_fn=<DivBackward0>)\n"
     ]
    },
    {
     "name": "stderr",
     "output_type": "stream",
     "text": [
      "\r",
      " 20%|████████████████▌                                                                  | 4/20 [03:33<14:16, 53.54s/it]"
     ]
    },
    {
     "name": "stdout",
     "output_type": "stream",
     "text": [
      "tensor(1.5218, device='cuda:0', grad_fn=<DivBackward0>)\n"
     ]
    },
    {
     "name": "stderr",
     "output_type": "stream",
     "text": [
      "\r",
      " 25%|████████████████████▊                                                              | 5/20 [04:25<13:16, 53.08s/it]"
     ]
    },
    {
     "name": "stdout",
     "output_type": "stream",
     "text": [
      "tensor(1.7146, device='cuda:0', grad_fn=<DivBackward0>)\n"
     ]
    },
    {
     "name": "stderr",
     "output_type": "stream",
     "text": [
      "\r",
      " 30%|████████████████████████▉                                                          | 6/20 [05:17<12:19, 52.80s/it]"
     ]
    },
    {
     "name": "stdout",
     "output_type": "stream",
     "text": [
      "tensor(1.4347, device='cuda:0', grad_fn=<DivBackward0>)\n",
      "tensor(1.1712, device='cuda:0', grad_fn=<DivBackward0>)\n"
     ]
    },
    {
     "name": "stderr",
     "output_type": "stream",
     "text": [
      " 40%|█████████████████████████████████▏                                                 | 8/20 [07:02<10:31, 52.60s/it]"
     ]
    },
    {
     "name": "stdout",
     "output_type": "stream",
     "text": [
      "tensor(1.2383, device='cuda:0', grad_fn=<DivBackward0>)\n"
     ]
    },
    {
     "name": "stderr",
     "output_type": "stream",
     "text": [
      "\r",
      " 45%|█████████████████████████████████████▎                                             | 9/20 [07:54<09:36, 52.44s/it]"
     ]
    },
    {
     "name": "stdout",
     "output_type": "stream",
     "text": [
      "tensor(1.7540, device='cuda:0', grad_fn=<DivBackward0>)\n"
     ]
    },
    {
     "name": "stderr",
     "output_type": "stream",
     "text": [
      "\r",
      " 50%|█████████████████████████████████████████                                         | 10/20 [08:46<08:44, 52.41s/it]"
     ]
    },
    {
     "name": "stdout",
     "output_type": "stream",
     "text": [
      "tensor(1.7480, device='cuda:0', grad_fn=<DivBackward0>)\n"
     ]
    },
    {
     "name": "stderr",
     "output_type": "stream",
     "text": [
      "\r",
      " 55%|█████████████████████████████████████████████                                     | 11/20 [09:38<07:50, 52.32s/it]"
     ]
    },
    {
     "name": "stdout",
     "output_type": "stream",
     "text": [
      "tensor(1.6582, device='cuda:0', grad_fn=<DivBackward0>)\n"
     ]
    },
    {
     "name": "stderr",
     "output_type": "stream",
     "text": [
      "\r",
      " 60%|█████████████████████████████████████████████████▏                                | 12/20 [10:31<06:58, 52.29s/it]"
     ]
    },
    {
     "name": "stdout",
     "output_type": "stream",
     "text": [
      "tensor(1.5282, device='cuda:0', grad_fn=<DivBackward0>)\n"
     ]
    },
    {
     "name": "stderr",
     "output_type": "stream",
     "text": [
      "\r",
      " 65%|█████████████████████████████████████████████████████▎                            | 13/20 [11:23<06:05, 52.20s/it]"
     ]
    },
    {
     "name": "stdout",
     "output_type": "stream",
     "text": [
      "tensor(1.8202, device='cuda:0', grad_fn=<DivBackward0>)\n"
     ]
    },
    {
     "name": "stderr",
     "output_type": "stream",
     "text": [
      "\r",
      " 70%|█████████████████████████████████████████████████████████▍                        | 14/20 [12:15<05:13, 52.23s/it]"
     ]
    },
    {
     "name": "stdout",
     "output_type": "stream",
     "text": [
      "tensor(1.3150, device='cuda:0', grad_fn=<DivBackward0>)\n",
      "tensor(1.0341, device='cuda:0', grad_fn=<DivBackward0>)\n"
     ]
    },
    {
     "name": "stderr",
     "output_type": "stream",
     "text": [
      " 80%|█████████████████████████████████████████████████████████████████▌                | 16/20 [14:00<03:29, 52.27s/it]"
     ]
    },
    {
     "name": "stdout",
     "output_type": "stream",
     "text": [
      "tensor(1.6646, device='cuda:0', grad_fn=<DivBackward0>)\n"
     ]
    },
    {
     "name": "stderr",
     "output_type": "stream",
     "text": [
      "\r",
      " 85%|█████████████████████████████████████████████████████████████████████▋            | 17/20 [14:52<02:36, 52.25s/it]"
     ]
    },
    {
     "name": "stdout",
     "output_type": "stream",
     "text": [
      "tensor(1.3219, device='cuda:0', grad_fn=<DivBackward0>)\n"
     ]
    },
    {
     "name": "stderr",
     "output_type": "stream",
     "text": [
      "\r",
      " 90%|█████████████████████████████████████████████████████████████████████████▊        | 18/20 [15:44<01:44, 52.28s/it]"
     ]
    },
    {
     "name": "stdout",
     "output_type": "stream",
     "text": [
      "tensor(1.8493, device='cuda:0', grad_fn=<DivBackward0>)\n"
     ]
    },
    {
     "name": "stderr",
     "output_type": "stream",
     "text": [
      "\r",
      " 95%|█████████████████████████████████████████████████████████████████████████████▉    | 19/20 [16:36<00:52, 52.22s/it]"
     ]
    },
    {
     "name": "stdout",
     "output_type": "stream",
     "text": [
      "tensor(1.1955, device='cuda:0', grad_fn=<DivBackward0>)\n",
      "tensor(1.4498, device='cuda:0', grad_fn=<DivBackward0>)\n"
     ]
    },
    {
     "name": "stderr",
     "output_type": "stream",
     "text": [
      "100%|██████████████████████████████████████████████████████████████████████████████████| 20/20 [17:29<00:00, 52.48s/it]\n"
     ]
    }
   ],
   "source": [
    "os.makedirs(\"./checkpoints/\", exist_ok=True)\n",
    "from tqdm import tqdm\n",
    "epochs = 20\n",
    "\n",
    "# Create instance of Network\n",
    "net = TCNmodel()\n",
    "\n",
    "# Create loss function and optimizer\n",
    "criterion = torch.nn.TripletMarginLoss(margin=0.2, p=2,reduction='sum')\n",
    "optimizer = torch.optim.SGD(net.parameters(), lr=1e-3,momentum=0.9)\n",
    "device = 'cuda' if torch.cuda.is_available() else 'cpu'\n",
    "net = net.to(device)\n",
    "\n",
    "# load pretrained data\n",
    "check = 590 # enter the latest epoch number you had !! need to enter manually else start with -1\n",
    "PATH = './checkpoints/{}_{}.pth'.format('SaveModel',check)\n",
    "net.load_state_dict(torch.load(PATH)['net'])\n",
    "optimizer.load_state_dict(torch.load(PATH)['optimizer'])\n",
    "loss = 2\n",
    "# print(device)\n",
    "for epoch in tqdm(range(epochs)):  # loop over the dataset multiple times\n",
    "    # randomly generate pair dataset\n",
    "    dataset = DatasetCon(train_sample,frame)\n",
    "    data_loader = torch.utils.data.DataLoader(dataset, batch_size = 4, shuffle = True)\n",
    "    # Train on data\n",
    "    train_loss = train(data_loader,net,optimizer,criterion,device)\n",
    "    print(train_loss/421)\n",
    "    if (loss>train_loss.item()/421) | (((epoch+1) % 20 == 0) and epoch):\n",
    "        torch.save({'loss':train_loss,\n",
    "            'net': net.state_dict(),\n",
    "            'optimizer':optimizer.state_dict()\n",
    "            }, './checkpoints/{}_{}.pth'.format('SaveModel', epoch+1+check))\n",
    "        loss = train_loss.item()/421\n"
   ]
  },
  {
   "cell_type": "code",
   "execution_count": 10,
   "metadata": {},
   "outputs": [
    {
     "name": "stdout",
     "output_type": "stream",
     "text": [
      "False\n"
     ]
    }
   ],
   "source": [
    "print((3>train_loss.item()))"
   ]
  },
  {
   "cell_type": "code",
   "execution_count": 11,
   "metadata": {},
   "outputs": [
    {
     "data": {
      "text/plain": [
       "610.3861694335938"
      ]
     },
     "execution_count": 11,
     "metadata": {},
     "output_type": "execute_result"
    }
   ],
   "source": [
    "train_loss.item()"
   ]
  },
  {
   "cell_type": "code",
   "execution_count": null,
   "metadata": {},
   "outputs": [],
   "source": []
  }
 ],
 "metadata": {
  "kernelspec": {
   "display_name": "Python 3",
   "language": "python",
   "name": "python3"
  },
  "language_info": {
   "codemirror_mode": {
    "name": "ipython",
    "version": 3
   },
   "file_extension": ".py",
   "mimetype": "text/x-python",
   "name": "python",
   "nbconvert_exporter": "python",
   "pygments_lexer": "ipython3",
   "version": "3.8.3"
  }
 },
 "nbformat": 4,
 "nbformat_minor": 4
}
