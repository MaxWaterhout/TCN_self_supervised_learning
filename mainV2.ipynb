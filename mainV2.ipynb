{
 "cells": [
  {
   "cell_type": "code",
   "execution_count": 31,
   "metadata": {},
   "outputs": [
    {
     "name": "stdout",
     "output_type": "stream",
     "text": [
      "tensor([41, 50, 42, 35, 31, 40, 37, 40, 33, 42, 30])\n",
      "torch.Size([1, 421, 3, 360, 640])\n"
     ]
    }
   ],
   "source": [
    "%reset -f\n",
    "import torch\n",
    "from torchvision import transforms\n",
    "from matplotlib import pyplot as plt\n",
    "from models import TCNmodel\n",
    "import numpy as np\n",
    "from random import randrange\n",
    "import os\n",
    "\n",
    "train_sample,frame = torch.load('dataset_train.pt')\n",
    "print(frame)\n",
    "\n",
    "print(train_sample.shape)\n",
    "\n",
    "#data_loader = torch.utils.data.DataLoader(train_sample, batch_size = 1, shuffle = True)\n",
    "# for videos in data_loader:\n",
    "#     print(videos.size())\n"
   ]
  },
  {
   "cell_type": "code",
   "execution_count": 32,
   "metadata": {},
   "outputs": [],
   "source": [
    "# print(posindex)\n",
    "# print(negindex)"
   ]
  },
  {
   "cell_type": "code",
   "execution_count": 33,
   "metadata": {},
   "outputs": [],
   "source": [
    "def DatasetCon(data,frame):\n",
    "    # construct a F x 3 x C x W x H tensoR\n",
    "    # 0: anchor, 1: positive, 2: negative\n",
    "    N,F,C,W,H = data.shape # F: frame\n",
    "    anchor = data\n",
    "    idx = np.arange(F)\n",
    "    count=0\n",
    "\n",
    "    # positve & negative\n",
    "    posindex = np.array([])\n",
    "    negindex = np.array([])\n",
    "    for j in range(len(frame)):\n",
    "        f = frame[j]\n",
    "        Posidx_j = np.zeros(f)\n",
    "        Negidx_j = np.zeros(f)\n",
    "        for i in range(f):\n",
    "        # pp positve\n",
    "            pp= randrange(-1,1)\n",
    "            if pp ==-1:\n",
    "                Posidx_j[i]=-1\n",
    "            else:\n",
    "                Posidx_j[i]=1\n",
    "        \n",
    "        # pn negative      \n",
    "            pn = randrange(0,f)\n",
    "            while pn<=i+2 & pn>=i-2:\n",
    "                pn=randrange(0,f)\n",
    "            Negidx_j[i]=pn+count\n",
    "        \n",
    "        count = count+f\n",
    "         \n",
    "        # fixed index value at 0 frame and the end frame\n",
    "        Posidx_j[0]=1\n",
    "        Posidx_j[-1]=-1\n",
    "        posindex=np.concatenate((posindex,Posidx_j))\n",
    "        negindex = np.concatenate((negindex,Negidx_j))\n",
    "    \n",
    "    posindex = idx+posindex\n",
    "    positive = data[:,posindex,:,:,:]\n",
    "\n",
    "    negative = data[:,negindex,:,:,:]\n",
    "    dataset = torch.cat([anchor,positive,negative])\n",
    "    dataset = dataset.transpose(0,1)\n",
    "    return dataset"
   ]
  },
  {
   "cell_type": "code",
   "execution_count": 34,
   "metadata": {},
   "outputs": [],
   "source": [
    "# dataset = DatasetCon(train_sample,frame)\n",
    "# print(dataset.shape)\n",
    "# # data_loader = torch.utils.data.DataLoader(dataset, batch_size = 4, shuffle = True)\n",
    "# # for videos in data_loader:\n",
    "# #     print(videos.size())\n",
    "# #     break\n"
   ]
  },
  {
   "cell_type": "code",
   "execution_count": 35,
   "metadata": {},
   "outputs": [],
   "source": [
    "# model=TCNmodel()"
   ]
  },
  {
   "cell_type": "code",
   "execution_count": 36,
   "metadata": {},
   "outputs": [],
   "source": [
    "# with torch.no_grad():\n",
    "#     output = model(torch.reshape(videos,[-1,3,360,640]))\n",
    "# # Tensor of shape 1000, with confidence scores over Imagenet's 1000 classes\n",
    "# print(output.shape)"
   ]
  },
  {
   "cell_type": "code",
   "execution_count": 37,
   "metadata": {},
   "outputs": [],
   "source": [
    "# output=output.reshape([4,3,-1])\n",
    "# print(output.shape)\n",
    "# anchor = output[:,0,:]\n",
    "# positive = output[:,1,:]\n",
    "# negative = output[:,2,:]\n",
    "# triplet_loss = torch.nn.TripletMarginLoss(margin=0.2, p=2)\n",
    "# # corr=torch.mm(output,output.transpose(0,1))\n",
    "# loss = triplet_loss(anchor, positive, negative)\n",
    "# print(loss)\n"
   ]
  },
  {
   "cell_type": "code",
   "execution_count": 38,
   "metadata": {},
   "outputs": [],
   "source": [
    "def train(train_loader, net, optimizer, criterion,device):\n",
    "    \"\"\"\n",
    "    Trains network for one epoch in batches.\n",
    "\n",
    "    Args:\n",
    "        train_loader: Data loader for training set.\n",
    "        net: Neural network model.\n",
    "        optimizer: Optimizer (e.g. SGD).\n",
    "        criterion: Loss function (e.g. cross-entropy loss).\n",
    "    \"\"\"\n",
    "  \n",
    "    avg_loss = 0\n",
    "    #correct = 0\n",
    "    total = 0\n",
    "\n",
    "    # iterate through batches\n",
    "    for i, data in enumerate(train_loader):\n",
    "        N,P,C,W,H = data.shape\n",
    "        # get the inputs; data is a list of [inputs, labels]\n",
    "        inputs = data.reshape([-1,C,W,H])\n",
    "        inputs= inputs.to(device)\n",
    "        # zero the parameter gradients\n",
    "        optimizer.zero_grad()\n",
    "\n",
    "        # forward + backward + optimize\n",
    "        outputs = net(inputs)\n",
    "        outputs = outputs.reshape([N,P,-1])\n",
    "        \n",
    "        anchor = outputs[:,0,:]\n",
    "        positive = outputs[:,1,:]\n",
    "        negative = outputs[:,2,:]\n",
    "        \n",
    "        loss = criterion(anchor,positive,negative)\n",
    "        loss.backward()\n",
    "        optimizer.step()\n",
    "\n",
    "        # keep track of loss and accuracy\n",
    "        avg_loss += loss\n",
    "        #print(avg_loss)\n",
    "    return avg_loss/len(train_loader)"
   ]
  },
  {
   "cell_type": "code",
   "execution_count": 40,
   "metadata": {},
   "outputs": [
    {
     "name": "stderr",
     "output_type": "stream",
     "text": [
      "Using cache found in C:\\Users\\Think/.cache\\torch\\hub\\pytorch_vision_v0.10.0\n",
      " 10%|████████▎                                                                          | 1/10 [00:51<07:47, 51.98s/it]"
     ]
    },
    {
     "name": "stdout",
     "output_type": "stream",
     "text": [
      "tensor(0.1665, device='cuda:0', grad_fn=<DivBackward0>)\n"
     ]
    },
    {
     "name": "stderr",
     "output_type": "stream",
     "text": [
      "\r",
      " 20%|████████████████▌                                                                  | 2/10 [01:43<06:55, 51.96s/it]"
     ]
    },
    {
     "name": "stdout",
     "output_type": "stream",
     "text": [
      "tensor(0.1360, device='cuda:0', grad_fn=<DivBackward0>)\n"
     ]
    },
    {
     "name": "stderr",
     "output_type": "stream",
     "text": [
      "\r",
      " 30%|████████████████████████▉                                                          | 3/10 [02:35<06:03, 51.96s/it]"
     ]
    },
    {
     "name": "stdout",
     "output_type": "stream",
     "text": [
      "tensor(0.1329, device='cuda:0', grad_fn=<DivBackward0>)\n"
     ]
    },
    {
     "name": "stderr",
     "output_type": "stream",
     "text": [
      "\r",
      " 40%|█████████████████████████████████▏                                                 | 4/10 [03:27<05:11, 52.00s/it]"
     ]
    },
    {
     "name": "stdout",
     "output_type": "stream",
     "text": [
      "tensor(0.1800, device='cuda:0', grad_fn=<DivBackward0>)\n"
     ]
    },
    {
     "name": "stderr",
     "output_type": "stream",
     "text": [
      "\r",
      " 50%|█████████████████████████████████████████▌                                         | 5/10 [04:20<04:20, 52.07s/it]"
     ]
    },
    {
     "name": "stdout",
     "output_type": "stream",
     "text": [
      "tensor(0.1402, device='cuda:0', grad_fn=<DivBackward0>)\n"
     ]
    },
    {
     "name": "stderr",
     "output_type": "stream",
     "text": [
      "\r",
      " 60%|█████████████████████████████████████████████████▊                                 | 6/10 [05:12<03:28, 52.09s/it]"
     ]
    },
    {
     "name": "stdout",
     "output_type": "stream",
     "text": [
      "tensor(0.1466, device='cuda:0', grad_fn=<DivBackward0>)\n"
     ]
    },
    {
     "name": "stderr",
     "output_type": "stream",
     "text": [
      "\r",
      " 70%|██████████████████████████████████████████████████████████                         | 7/10 [06:04<02:36, 52.12s/it]"
     ]
    },
    {
     "name": "stdout",
     "output_type": "stream",
     "text": [
      "tensor(0.1372, device='cuda:0', grad_fn=<DivBackward0>)\n"
     ]
    },
    {
     "name": "stderr",
     "output_type": "stream",
     "text": [
      "\r",
      " 80%|██████████████████████████████████████████████████████████████████▍                | 8/10 [06:56<01:44, 52.13s/it]"
     ]
    },
    {
     "name": "stdout",
     "output_type": "stream",
     "text": [
      "tensor(0.1975, device='cuda:0', grad_fn=<DivBackward0>)\n"
     ]
    },
    {
     "name": "stderr",
     "output_type": "stream",
     "text": [
      "\r",
      " 90%|██████████████████████████████████████████████████████████████████████████▋        | 9/10 [07:49<00:52, 52.25s/it]"
     ]
    },
    {
     "name": "stdout",
     "output_type": "stream",
     "text": [
      "tensor(0.1842, device='cuda:0', grad_fn=<DivBackward0>)\n",
      "tensor(0.1691, device='cuda:0', grad_fn=<DivBackward0>)\n"
     ]
    },
    {
     "name": "stderr",
     "output_type": "stream",
     "text": [
      "100%|██████████████████████████████████████████████████████████████████████████████████| 10/10 [08:41<00:00, 52.18s/it]\n"
     ]
    }
   ],
   "source": [
    "os.makedirs(\"./checkpoints/\", exist_ok=True)\n",
    "from tqdm import tqdm\n",
    "epochs = 10\n",
    "\n",
    "# Create instance of Network\n",
    "net = TCNmodel()\n",
    "\n",
    "# Create loss function and optimizer\n",
    "criterion = torch.nn.TripletMarginLoss(margin=0.2, p=2)\n",
    "optimizer = torch.optim.SGD(net.parameters(), lr=5e-1)\n",
    "device = 'cuda' if torch.cuda.is_available() else 'cpu'\n",
    "#device = 'cpu'\n",
    "net = net.to(device)\n",
    "\n",
    "# load pretrained data\n",
    "check = 49 # enter the latest epoch number you had !! need to enter manually else start with -1\n",
    "PATH = './checkpoints/{}_{}.pth'.format('SaveModel',check)\n",
    "net.load_state_dict(torch.load(PATH))\n",
    "\n",
    "# print(device)\n",
    "for epoch in tqdm(range(epochs)):  # loop over the dataset multiple times\n",
    "    # randomly generate pair dataset\n",
    "    dataset = DatasetCon(train_sample,frame)\n",
    "    data_loader = torch.utils.data.DataLoader(dataset, batch_size = 4, shuffle = True)\n",
    "    # Train on data\n",
    "    train_loss = train(data_loader,net,optimizer,criterion,device)\n",
    "    print(train_loss)\n",
    "    if (epoch % 9 == 0) and epoch:\n",
    "        torch.save(net.state_dict(), './checkpoints/{}_{}.pth'.format('SaveModel', epoch+1+check))\n",
    "    torch.cuda.empty_cache()"
   ]
  },
  {
   "cell_type": "code",
   "execution_count": null,
   "metadata": {},
   "outputs": [],
   "source": [
    "[0 5 4 6  ]"
   ]
  }
 ],
 "metadata": {
  "kernelspec": {
   "display_name": "Python 3",
   "language": "python",
   "name": "python3"
  },
  "language_info": {
   "codemirror_mode": {
    "name": "ipython",
    "version": 3
   },
   "file_extension": ".py",
   "mimetype": "text/x-python",
   "name": "python",
   "nbconvert_exporter": "python",
   "pygments_lexer": "ipython3",
   "version": "3.8.3"
  }
 },
 "nbformat": 4,
 "nbformat_minor": 4
}
