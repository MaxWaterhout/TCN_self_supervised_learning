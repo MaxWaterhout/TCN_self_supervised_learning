{
 "cells": [
  {
   "cell_type": "code",
   "execution_count": 60,
   "metadata": {},
   "outputs": [
    {
     "name": "stdout",
     "output_type": "stream",
     "text": [
      "torch.Size([1, 41, 3, 360, 640])\n"
     ]
    }
   ],
   "source": [
    "%reset -f\n",
    "import torch\n",
    "from torchvision import transforms\n",
    "from matplotlib import pyplot as plt\n",
    "from models import TCNmodel\n",
    "import numpy as np\n",
    "from random import randrange\n",
    "\n",
    "train_sample = torch.load('tensor.pt')\n",
    "train_sample=train_sample.transpose(1,2)\n",
    "#print(train_data.shape)\n",
    "preprocess = transforms.Compose([\n",
    "    #transforms.Resize([41,360,640]),\n",
    "    #transforms.CenterCrop(299),\n",
    "    #transforms.ToTensor(),\n",
    "    transforms.Normalize(mean=[0.485, 0.456, 0.406], std=[0.229, 0.224, 0.225]),\n",
    "])\n",
    "train_sample = preprocess(train_sample)\n",
    "print(train_sample.shape)\n",
    "\n",
    "#data_loader = torch.utils.data.DataLoader(train_sample, batch_size = 1, shuffle = True)\n",
    "# for videos in data_loader:\n",
    "#     print(videos.size())"
   ]
  },
  {
   "cell_type": "code",
   "execution_count": 61,
   "metadata": {},
   "outputs": [],
   "source": [
    "def DatasetCon(data):\n",
    "    # construct a F x 3 x C x W x H tensoR\n",
    "    # 0: anchor, 1: positive, 2: negative\n",
    "    N,F,C,W,H = data.shape # F: frame\n",
    "    anchor = data\n",
    "    idx = np.arange(F)\n",
    "\n",
    "    # positve & negative\n",
    "    posindex = np.zeros(F)\n",
    "    negindex = np.zeros(F)\n",
    "    for i in range(F):\n",
    "        # pp positve\n",
    "        pp= randrange(-1,1)\n",
    "        if pp ==-1:\n",
    "            posindex[i]=-1\n",
    "        else:\n",
    "            posindex[i]=1\n",
    "        \n",
    "        # pn negative      \n",
    "        pn = randrange(0,F)\n",
    "        while pn<=i+2 & pn>=i-2:\n",
    "            pn=randrange(0,F)\n",
    "        negindex[i]=pn\n",
    "    \n",
    "    # fixed index value at 0 frame and end frame\n",
    "    posindex[0]=1\n",
    "    posindex[-1]=-1\n",
    "    posindx = idx+posindex\n",
    "    positive = data[:,posindex,:,:,:]\n",
    "\n",
    "    negative = data[:,negindex,:,:,:]\n",
    "    dataset = torch.cat([anchor,positive,negative])\n",
    "    dataset = dataset.transpose(0,1)\n",
    "    return dataset"
   ]
  },
  {
   "cell_type": "code",
   "execution_count": 62,
   "metadata": {},
   "outputs": [],
   "source": [
    "# dataset = DatasetCon(train_sample)\n",
    "# print(dataset.shape)\n",
    "# data_loader = torch.utils.data.DataLoader(dataset, batch_size = 4, shuffle = True)\n",
    "# for videos in data_loader:\n",
    "#     print(videos.size())\n",
    "#     break\n"
   ]
  },
  {
   "cell_type": "code",
   "execution_count": 63,
   "metadata": {},
   "outputs": [],
   "source": [
    "# model=TCNmodel()"
   ]
  },
  {
   "cell_type": "code",
   "execution_count": 64,
   "metadata": {},
   "outputs": [],
   "source": [
    "# with torch.no_grad():\n",
    "#     output = model(torch.reshape(videos,[-1,3,360,640]))\n",
    "# # Tensor of shape 1000, with confidence scores over Imagenet's 1000 classes\n",
    "# print(output.shape)"
   ]
  },
  {
   "cell_type": "code",
   "execution_count": 65,
   "metadata": {},
   "outputs": [],
   "source": [
    "# output=output.reshape([4,3,-1])\n",
    "# print(output.shape)\n",
    "# anchor = output[:,0,:]\n",
    "# positive = output[:,1,:]\n",
    "# negative = output[:,2,:]\n",
    "# triplet_loss = torch.nn.TripletMarginLoss(margin=0.2, p=2)\n",
    "# # corr=torch.mm(output,output.transpose(0,1))\n",
    "# loss = triplet_loss(anchor, positive, negative)\n",
    "# print(loss)\n"
   ]
  },
  {
   "cell_type": "code",
   "execution_count": 66,
   "metadata": {},
   "outputs": [],
   "source": [
    "def train(train_loader, net, optimizer, criterion,device):\n",
    "    \"\"\"\n",
    "    Trains network for one epoch in batches.\n",
    "\n",
    "    Args:\n",
    "        train_loader: Data loader for training set.\n",
    "        net: Neural network model.\n",
    "        optimizer: Optimizer (e.g. SGD).\n",
    "        criterion: Loss function (e.g. cross-entropy loss).\n",
    "    \"\"\"\n",
    "  \n",
    "    avg_loss = 0\n",
    "    #correct = 0\n",
    "    total = 0\n",
    "\n",
    "    # iterate through batches\n",
    "    for i, data in enumerate(train_loader):\n",
    "        N,P,C,W,H = data.shape\n",
    "        # get the inputs; data is a list of [inputs, labels]\n",
    "        inputs = data.reshape([-1,C,W,H])\n",
    "        inputs= inputs.to(device)\n",
    "        # zero the parameter gradients\n",
    "        optimizer.zero_grad()\n",
    "\n",
    "        # forward + backward + optimize\n",
    "        outputs = net(inputs)\n",
    "        outputs = outputs.reshape([N,P,-1])\n",
    "        \n",
    "        anchor = outputs[:,0,:]\n",
    "        positive = outputs[:,1,:]\n",
    "        negative = outputs[:,2,:]\n",
    "        \n",
    "        loss = criterion(anchor,positive,negative)\n",
    "        loss.backward()\n",
    "        optimizer.step()\n",
    "\n",
    "        # keep track of loss and accuracy\n",
    "        avg_loss += loss\n",
    "        #print(avg_loss)\n",
    "    return avg_loss/len(train_loader)"
   ]
  },
  {
   "cell_type": "code",
   "execution_count": 67,
   "metadata": {},
   "outputs": [
    {
     "name": "stderr",
     "output_type": "stream",
     "text": [
      "Using cache found in C:\\Users\\Think/.cache\\torch\\hub\\pytorch_vision_v0.10.0\n",
      "100%|██████████████████████████████████████████████████████████████████████████████████| 10/10 [00:52<00:00,  5.24s/it]\n"
     ]
    }
   ],
   "source": [
    "from tqdm import tqdm\n",
    "epochs = 10\n",
    "\n",
    "# Create instance of Network\n",
    "net = TCNmodel()\n",
    "\n",
    "# Create loss function and optimizer\n",
    "criterion = torch.nn.TripletMarginLoss(margin=0.2, p=2)\n",
    "optimizer = torch.optim.SGD(net.parameters(), lr=5e-1)\n",
    "device = 'cuda' if torch.cuda.is_available() else 'cpu'\n",
    "#device = 'cpu'\n",
    "net = net.to(device)\n",
    "# print(device)\n",
    "for epoch in tqdm(range(epochs)):  # loop over the dataset multiple times\n",
    "    # randomly generate pair dataset\n",
    "    dataset = DatasetCon(train_sample)\n",
    "    data_loader = torch.utils.data.DataLoader(dataset, batch_size = 4, shuffle = True)\n",
    "    # Train on data\n",
    "    train_loss = train(data_loader,net,optimizer,criterion,device)\n",
    "    #print(train_loss)\n",
    "    torch.cuda.empty_cache()"
   ]
  },
  {
   "cell_type": "code",
   "execution_count": null,
   "metadata": {},
   "outputs": [],
   "source": []
  }
 ],
 "metadata": {
  "kernelspec": {
   "display_name": "Python 3",
   "language": "python",
   "name": "python3"
  },
  "language_info": {
   "codemirror_mode": {
    "name": "ipython",
    "version": 3
   },
   "file_extension": ".py",
   "mimetype": "text/x-python",
   "name": "python",
   "nbconvert_exporter": "python",
   "pygments_lexer": "ipython3",
   "version": "3.8.3"
  }
 },
 "nbformat": 4,
 "nbformat_minor": 4
}
